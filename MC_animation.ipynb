{
 "cells": [
  {
   "cell_type": "code",
   "execution_count": 102,
   "metadata": {},
   "outputs": [],
   "source": [
    "import numpy as np\n",
    "import matplotlib.pyplot as plt\n",
    "from scipy.stats import uniform"
   ]
  },
  {
   "cell_type": "code",
   "execution_count": 103,
   "metadata": {},
   "outputs": [],
   "source": [
    "px = uniform.rvs"
   ]
  },
  {
   "cell_type": "code",
   "execution_count": 109,
   "metadata": {},
   "outputs": [],
   "source": [
    "Ns = [10,100,1000,5000,10000,100000]\n",
    "Ss = [px(size=(N,2),loc=-1,scale=2) for N in Ns]\n",
    "\n",
    "def estimate(samples):\n",
    "    samples_inner =  [ pair for pair in samples if np.sqrt( pow(pair[0],2) + pow(pair[1],2)) < 1 ]\n",
    "    samples_outer =  [ pair for pair in samples if np.sqrt( pow(pair[0],2) + pow(pair[1],2)) >= 1 ]\n",
    "\n",
    "    N_inner = len(samples_inner)\n",
    "    inner_arr = np.array(samples_inner)\n",
    "    outer_arr = np.array(samples_outer)\n",
    "    \n",
    "    return (inner_arr, outer_arr, (4*N_inner)/len(samples))"
   ]
  },
  {
   "cell_type": "code",
   "execution_count": 110,
   "metadata": {},
   "outputs": [],
   "source": [
    "Es = [estimate(samples) for samples in Ss]\n",
    "\n",
    "def f(i=0):\n",
    "    fig, ax = plt.subplots(1,1)\n",
    "    ax.scatter(Es[i][0][:,0],Es[i][0][:,1],color='r',linewidth=0.2, label=\"Accepted\")\n",
    "    ax.scatter(Es[i][1][:,0],Es[i][1][:,1],color='b',linewidth=0.2, label=\"Rejected\")\n",
    "    ax.set_title(\"Monte Carlo Estimate of Pi: \" + str(Es[i][2]) + \", using N=\" + str(Ns[i]) )\n",
    "    ax.axis(\"equal\")\n",
    "    plt.legend(loc=\"upper left\")\n",
    "    plt.show()"
   ]
  },
  {
   "cell_type": "code",
   "execution_count": 111,
   "metadata": {},
   "outputs": [
    {
     "data": {
      "application/vnd.jupyter.widget-view+json": {
       "model_id": "c3fcff2d9fd249658e01240178277def",
       "version_major": 2,
       "version_minor": 0
      },
      "text/plain": [
       "interactive(children=(IntSlider(value=0, description='i', max=5), Output(layout=Layout(height='300px'))), _dom…"
      ]
     },
     "metadata": {},
     "output_type": "display_data"
    }
   ],
   "source": [
    "interactive_plot = interactive(f, i=(0, len(Ns)-1, 1))\n",
    "output = interactive_plot.children[-1]\n",
    "output.layout.height = '300px'\n",
    "interactive_plot"
   ]
  },
  {
   "cell_type": "code",
   "execution_count": null,
   "metadata": {},
   "outputs": [],
   "source": []
  }
 ],
 "metadata": {
  "kernelspec": {
   "display_name": "Python 3",
   "language": "python",
   "name": "python3"
  },
  "language_info": {
   "codemirror_mode": {
    "name": "ipython",
    "version": 3
   },
   "file_extension": ".py",
   "mimetype": "text/x-python",
   "name": "python",
   "nbconvert_exporter": "python",
   "pygments_lexer": "ipython3",
   "version": "3.7.6"
  }
 },
 "nbformat": 4,
 "nbformat_minor": 4
}
