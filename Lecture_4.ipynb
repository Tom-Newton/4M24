{
 "cells": [
  {
   "cell_type": "code",
   "execution_count": 1,
   "metadata": {},
   "outputs": [
    {
     "data": {
      "image/png": "[encoded data removed]",
      "text/plain": [
       "<Figure size 432x288 with 1 Axes>"
      ]
     },
     "metadata": {
      "needs_background": "light"
     },
     "output_type": "display_data"
    },
    {
     "name": "stdout",
     "output_type": "stream",
     "text": [
      "Mean estimate:  0.1289911660532702\n",
      "Variance estimate:  1.0847465790803803\n"
     ]
    }
   ],
   "source": [
    "import numpy as np\n",
    "import matplotlib.pyplot as plt\n",
    "from scipy.stats import norm, uniform\n",
    "\n",
    "# Target distribution\n",
    "# target = norm(0, 1)\n",
    "target = norm(0,1)\n",
    "\n",
    "# Proposal distribution\n",
    "sigma = 3\n",
    "\n",
    "\n",
    "def MH(initial, target_dist, proposal_std, n):\n",
    "    samples = []\n",
    "\n",
    "    prev = initial\n",
    "    \n",
    "    for i in range(n):\n",
    "        # Sample from proposal about previous sample\n",
    "        y = norm.rvs(loc=prev,scale=proposal_std)\n",
    "\n",
    "        # Sample from uniform on [0,1]\n",
    "        u = uniform.rvs()\n",
    "\n",
    "        # Calculate acceptance ratio, only target involved because prop. is symmetric\n",
    "        a = min(target_dist.pdf(y)/target_dist.pdf(prev), 1)\n",
    "        #print(a)\n",
    "\n",
    "        # Check if new sample is accepted\n",
    "        if u <= a:\n",
    "            samples.append(y)\n",
    "            prev = y\n",
    "        else:\n",
    "            samples.append(prev)\n",
    "\n",
    "    return samples\n",
    "\n",
    "samples = MH(1, target, sigma, 1000)\n",
    "\n",
    "plt.hist(samples, bins=20, density=\"probability\")\n",
    "x = np.linspace(-4,4,100)\n",
    "plt.plot(x,target.pdf(x))\n",
    "plt.show()\n",
    "\n",
    "est_mean = np.mean(samples)\n",
    "est_var = np.var(samples)\n",
    "print(\"Mean estimate: \", est_mean)\n",
    "print(\"Variance estimate: \", est_var)"
   ]
  }
 ],
 "metadata": {
  "kernelspec": {
   "display_name": "Python 3",
   "language": "python",
   "name": "python3"
  },
  "language_info": {
   "codemirror_mode": {
    "name": "ipython",
    "version": 3
   },
   "file_extension": ".py",
   "mimetype": "text/x-python",
   "name": "python",
   "nbconvert_exporter": "python",
   "pygments_lexer": "ipython3",
   "version": "3.7.6"
  }
 },
 "nbformat": 4,
 "nbformat_minor": 4
}
