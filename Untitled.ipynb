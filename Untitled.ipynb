{
 "cells": [
  {
   "cell_type": "code",
   "execution_count": 3,
   "metadata": {},
   "outputs": [],
   "source": [
    "import numpy as np\n",
    "import matplotlib.pyplot as plt\n",
    "from scipy.stats import uniform\n",
    "from scipy.stats import norm"
   ]
  },
  {
   "cell_type": "code",
   "execution_count": 4,
   "metadata": {},
   "outputs": [],
   "source": [
    "mu = 7"
   ]
  },
  {
   "cell_type": "code",
   "execution_count": 5,
   "metadata": {},
   "outputs": [
    {
     "name": "stdout",
     "output_type": "stream",
     "text": [
      "1.2798651027878805e-12\n"
     ]
    }
   ],
   "source": [
    "P = 1 - norm.cdf(x=mu,loc=0,scale=1)\n",
    "print(P)"
   ]
  },
  {
   "cell_type": "code",
   "execution_count": 6,
   "metadata": {},
   "outputs": [],
   "source": [
    "N = 10000\n",
    "\n",
    "qx_samples = norm.rvs(size=N,loc=mu,scale=1)"
   ]
  },
  {
   "cell_type": "code",
   "execution_count": 7,
   "metadata": {},
   "outputs": [],
   "source": [
    "def importance(x):\n",
    "    if x>=mu:\n",
    "        return norm.pdf(x,loc=0,scale=1)/norm.pdf(x,loc=mu,scale=1)\n",
    "    else: \n",
    "        return 0"
   ]
  },
  {
   "cell_type": "code",
   "execution_count": 12,
   "metadata": {},
   "outputs": [
    {
     "name": "stdout",
     "output_type": "stream",
     "text": [
      "True P: 1.2798651027878805e-12, Importance Sampling Estimate: 1.2842284845350087e-12\n"
     ]
    }
   ],
   "source": [
    "MCE = (1/N) * sum([importance(x) for x in qx_samples])\n",
    "print(\"True P: {}, Importance Sampling Estimate: {}\".format(P,MCE))"
   ]
  },
  {
   "cell_type": "code",
   "execution_count": 9,
   "metadata": {},
   "outputs": [
    {
     "name": "stdout",
     "output_type": "stream",
     "text": [
      "Time to collect a non-rejected sample: 223.0 days\n"
     ]
    }
   ],
   "source": [
    "# Would have to run the original sampler on average 1/P times before even a single sample was accepted\n",
    "\n",
    "from timeit import timeit\n",
    "s_per_loop = timeit(lambda:norm.rvs(),number=10000)/10000\n",
    "secs = s_per_loop * (1/P)\n",
    "days = secs/(60*60*24)\n",
    "\n",
    "print(\"Time to collect a non-rejected sample: {} days\".format(round(days)))\n",
    "# Almost a year in this case"
   ]
  }
 ],
 "metadata": {
  "kernelspec": {
   "display_name": "Python 3",
   "language": "python",
   "name": "python3"
  },
  "language_info": {
   "codemirror_mode": {
    "name": "ipython",
    "version": 3
   },
   "file_extension": ".py",
   "mimetype": "text/x-python",
   "name": "python",
   "nbconvert_exporter": "python",
   "pygments_lexer": "ipython3",
   "version": "3.7.6"
  }
 },
 "nbformat": 4,
 "nbformat_minor": 4
}
