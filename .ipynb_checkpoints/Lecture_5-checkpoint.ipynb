{
 "cells": [
  {
   "cell_type": "code",
   "execution_count": 1,
   "metadata": {},
   "outputs": [],
   "source": [
    "import numpy as np\n",
    "import matplotlib.pyplot as plt\n",
    "from scipy.stats import norm, uniform"
   ]
  },
  {
   "cell_type": "markdown",
   "metadata": {},
   "source": [
    "<h1 align=\"center\"><b><u>Lecture 5 - Markov Chain Monte Carlo (MCMC)</u></b></h1>\n",
    "\n",
    "<h2>Metropolis-Hastings Alogrithm</h2>"
   ]
  },
  {
   "cell_type": "markdown",
   "metadata": {},
   "source": [
    "From lecture 5, the Metropolis-Hastings (MH) algorithm was defined, which allows us to form a Markov chain with its invariant distibution being our \"target\" distribution ($\\pi^*(dx)$).  Running the algorithm for long enough, and under the right conditions for convergence, the chain represents samples drawn from the target distribution. "
   ]
  },
  {
   "cell_type": "markdown",
   "metadata": {},
   "source": [
    "The MH algorithm takes samples from a proposal distribution ($q(x,y)$, where x is the previous state of the chain, and y the next state), and accepts the new sample with an \"Acceptance probability\", $\\alpha(x,y)$, given by:\n",
    "\n",
    "$$\n",
    "\\alpha(x,y) = \\frac{\\pi(y)q(y,x)}{\\pi(x)q(x,y)}\n",
    "$$\n",
    "\n",
    "For this example, we will use a symmetric proposal distribution: \n",
    "$$\n",
    "q(x,y) \\sim \\mathcal{N} (y; x,\\sigma^{2})\n",
    "$$\n",
    "meaning that the acceptance probability is just the ratio of the target density at y and x, ($\\pi(y)/\\pi(x)$).  The target distribution will just be the standard Gaussian - $\\pi \\sim \\mathcal{N}(0,1)$.\n",
    "\n",
    "\n",
    "\n",
    "Below the statistics for the proposal and target distributions are given."
   ]
  },
  {
   "cell_type": "code",
   "execution_count": 2,
   "metadata": {},
   "outputs": [],
   "source": [
    "# Target distribution \n",
    "target = norm(0,1)"
   ]
  },
  {
   "cell_type": "code",
   "execution_count": 3,
   "metadata": {},
   "outputs": [],
   "source": [
    "###--- Parameters ---###\n",
    "\n",
    "sigma = 2      # Proposal distribution's standard deviation\n",
    "N = 1000       # Number of samples to be taken\n",
    "initial = 1    # Initial start point of the Markov chain"
   ]
  },
  {
   "cell_type": "markdown",
   "metadata": {},
   "source": [
    "The MH algorithm is scripted below - see the last slide of lecture 5 for the pseudo-code from which this has been generated."
   ]
  },
  {
   "cell_type": "code",
   "execution_count": 4,
   "metadata": {},
   "outputs": [],
   "source": [
    "def MH(initial, target_dist, proposal_std, n):\n",
    "    samples = []\n",
    "\n",
    "    x = initial\n",
    "    \n",
    "    for _ in range(n):\n",
    "        # Sample from proposal, mean is the previous sample\n",
    "        y = norm.rvs(loc=x,scale=proposal_std)\n",
    "\n",
    "        # Sample from uniform on [0,1]\n",
    "        u = uniform.rvs()\n",
    "\n",
    "        # Calculate acceptance ratio, only target involved because proposal is symmetric\n",
    "        a = min(target_dist.pdf(y)/target_dist.pdf(x), 1)\n",
    "        \n",
    "        # Check if new sample is accepted\n",
    "        if u <= a:\n",
    "            samples.append(y)\n",
    "            x = y\n",
    "        else:\n",
    "            samples.append(x)\n",
    "\n",
    "    return samples"
   ]
  },
  {
   "cell_type": "markdown",
   "metadata": {},
   "source": [
    "The Markov chain is now generated, with $N=1000$ samples, and the results of the sampling are shown below, through a comparison of the normed histogram of samples to the true target pdf."
   ]
  },
  {
   "cell_type": "code",
   "execution_count": 5,
   "metadata": {},
   "outputs": [],
   "source": [
    "samples = MH(initial, target, sigma, N)"
   ]
  },
  {
   "cell_type": "code",
   "execution_count": 11,
   "metadata": {},
   "outputs": [
    {
     "data": {
      "image/png": "[encoded data removed]",
      "text/plain": [
       "<Figure size 432x288 with 1 Axes>"
      ]
     },
     "metadata": {
      "needs_background": "light"
     },
     "output_type": "display_data"
    },
    {
     "name": "stdout",
     "output_type": "stream",
     "text": [
      "Estimated Mean:  -0.022314858635338376     True mean: 0\n",
      "Estimated variance:  0.9035822442919919     True variance: 1\n"
     ]
    }
   ],
   "source": [
    "## Plotting\n",
    "plt.hist(samples, bins=20, density=\"probability\",label=\"Samples\")\n",
    "x = np.linspace(-4,4,100)\n",
    "plt.plot(x,target.pdf(x),label=\"True pdf\")\n",
    "plt.xlabel(r\"$x$\",fontsize=14)\n",
    "plt.ylabel(r\"$\\pi(x)$\", fontsize=14)\n",
    "plt.legend()\n",
    "plt.show()\n",
    "\n",
    "# Mean and variance estimates for the target distribution\n",
    "est_mean = np.mean(samples)\n",
    "est_var = np.var(samples)\n",
    "print(\"Estimated mean: \", est_mean, \"    True mean: 0\")\n",
    "print(\"Estimated variance: \", est_var, \"    True variance: 1\")"
   ]
  },
  {
   "cell_type": "markdown",
   "metadata": {},
   "source": [
    "Now you can adapt the parameters and observe how this affects the quality of the samples.\n",
    "\n",
    "Try the following separately:<br/>\n",
    "<ul>\n",
    "    <li> Reduce N to below 100. </li>\n",
    "    <li> Reduce the proposal variance ($\\sigma = 0.05$), and observe the \"poor mixing\" of the Markov chain.</li>\n",
    "    <li>Initialise the chain far from important region of the distribution (i.e. initial=15).  Now read up on \"Burn-in\" - do you understand why it is necessary based on the samples you observe?</li>\n",
    "</ul>\n"
   ]
  }
 ],
 "metadata": {
  "kernelspec": {
   "display_name": "Python 3",
   "language": "python",
   "name": "python3"
  },
  "language_info": {
   "codemirror_mode": {
    "name": "ipython",
    "version": 3
   },
   "file_extension": ".py",
   "mimetype": "text/x-python",
   "name": "python",
   "nbconvert_exporter": "python",
   "pygments_lexer": "ipython3",
   "version": "3.7.6"
  }
 },
 "nbformat": 4,
 "nbformat_minor": 4
}
