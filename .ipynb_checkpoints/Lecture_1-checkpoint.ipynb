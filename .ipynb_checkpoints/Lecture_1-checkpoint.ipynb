{
 "cells": [
  {
   "cell_type": "code",
   "execution_count": 111,
   "metadata": {},
   "outputs": [],
   "source": [
    "import numpy as np\n",
    "import matplotlib.pyplot as plt"
   ]
  },
  {
   "cell_type": "markdown",
   "metadata": {},
   "source": [
    "<h1 align=\"center\"><b><u>Lecture 1 - The Monte Carlo Method</u></b></h1>\n",
    "\n",
    "<h2>Monte Carlo Estimate of an Integral</h2>"
   ]
  },
  {
   "cell_type": "markdown",
   "metadata": {},
   "source": [
    "As we have seen from lecture 1, we are able to use the Monte Carlo method to approximate integrals.  To demonstrate the use of the Monte Carlo method, the area under a decaying exponential is approximated, and the estimate compared to the true area that can be found analytically.\n",
    "\n",
    "Firstly, the function to be integrated is defined on the unit line $[0,1]$, and is zero elsewhere: \n",
    "\n",
    "$$ f(x) = \\exp(-x) $$  \n",
    "\n"
   ]
  },
  {
   "cell_type": "code",
   "execution_count": 112,
   "metadata": {},
   "outputs": [],
   "source": [
    "def f(x): return np.exp(-x)"
   ]
  },
  {
   "cell_type": "markdown",
   "metadata": {},
   "source": [
    "The area, $A$ will be defined as the area under this function along the unit line, i.e. \n",
    "\n",
    "$$ A = \\int_{0}^{1}f(x)dx$$\n",
    "\n",
    "This area is available exactly ($A = 1-\\frac{1}{e} \\approx 0.6321$). This will allow us to compare the Monte Carlo estimate to the true value.  In practice, the Monte Carlo method is used when things are not available analytically. "
   ]
  },
  {
   "cell_type": "code",
   "execution_count": 113,
   "metadata": {},
   "outputs": [
    {
     "data": {
      "image/png": "[encoded data removed]",
      "text/plain": [
       "<Figure size 432x288 with 1 Axes>"
      ]
     },
     "metadata": {
      "needs_background": "light"
     },
     "output_type": "display_data"
    }
   ],
   "source": [
    "x = np.linspace(0,1,100)\n",
    "y = f(x)\n",
    "\n",
    "## Plotting\n",
    "plt.plot(x,y,color='k')\n",
    "plt.xlim(-0.2,1.2)\n",
    "plt.ylim(0,1.2)\n",
    "plt.fill_between(x,y,alpha=0.5)\n",
    "plt.plot((0,0),(0,1),color='k')\n",
    "plt.plot((1,1),(0,np.exp(-1)),color='k')\n",
    "plt.plot((0,1),(0,0),color='k')\n",
    "plt.xlabel(r\"$x$\",fontsize=16)\n",
    "plt.ylabel(r\"$f(x)$\",fontsize=16)\n",
    "plt.show()"
   ]
  },
  {
   "cell_type": "markdown",
   "metadata": {},
   "source": [
    "Consider the expectation of $f(x)$ w.r.t the density $p(x)$:\n",
    "\n",
    "$$\\mathbb{E} \\{ f(X) \\} = \\int f(x) p(x) dx\n",
    "$$\n",
    "\n",
    "Now if $p(x)$ is defined as the uniform on $[0,1]$, this expectaiton is the area $A$.\n",
    "\n",
    "$$ p(x) = \\begin{cases}\n",
    "1 &  0 \\leq x \\leq 1\\\\\n",
    "0 &  \\text{otherwise}\n",
    "\\end{cases}\n",
    "$$\n",
    "\n",
    "$$\\mathbb{E} \\{ f(X) \\} = \\int_{0}^{1} f(x) dx = A\n",
    "$$\n",
    "\n",
    "Now the Monte Carlo method can be used to estimate this expectation:\n",
    "\n",
    "$$\n",
    "A^{*} = \\frac{1}{N} \\sum_{i=1}^{N} f(X^{i})\n",
    "$$\n",
    "\n",
    "where each $X^{i} \\sim p(x)$.\n",
    "\n",
    "The uniform sampler on $[0,1]$ is setup easily:\n"
   ]
  },
  {
   "cell_type": "code",
   "execution_count": 114,
   "metadata": {},
   "outputs": [],
   "source": [
    "from scipy.stats import uniform\n",
    "\n",
    "px = uniform.rvs"
   ]
  },
  {
   "cell_type": "markdown",
   "metadata": {},
   "source": [
    "A Monte Carlo estimate for $A$ is found with $N=100$.  Re-run the following cell to see how the estimate varies depending on the random samples that are drawn.  Change N and see how the accuracy of the estimate changes."
   ]
  },
  {
   "cell_type": "code",
   "execution_count": 115,
   "metadata": {},
   "outputs": [
    {
     "name": "stdout",
     "output_type": "stream",
     "text": [
      "True Area: 0.6321, Estimated Area: 0.6355\n"
     ]
    }
   ],
   "source": [
    "N = 100\n",
    "samples = px( size=N )                # N samples are drawn from the uniform density px\n",
    "\n",
    "A_estimate = sum( f(samples) ) / N    # This is the Monte Carlo estimate\n",
    "A = 1-np.exp(-1)                      # This is the true value of A\n",
    "\n",
    "print(\"True Area: {}, Estimated Area: {}\".format(round(A,4),round(A_estimate,4)))"
   ]
  },
  {
   "cell_type": "markdown",
   "metadata": {},
   "source": [
    "<h2>Central Limit Theorem for Monte Carlo</h2>\n",
    "\n",
    "The estimate for the area is dependent on the random samples drawn $\\{X^{i}\\}_{i=1}^N$, and the number of samples drawn, $N$.  From the Lecture, this estimate is found to be normally distributed about the true value, with a variance which depends on $N$ and the variance of the function $f$.\n"
   ]
  },
  {
   "cell_type": "markdown",
   "metadata": {},
   "source": [
    "$$\\frac{1}{N} \\sum_{i=1}^{N} f(X^{i}) \\sim \\mathcal{N} \\left( \\mathbb{E} \\{ f(X) \\}, \n",
    "\\frac{\\sigma_{f}^{2}}{N} \\right) $$"
   ]
  },
  {
   "cell_type": "markdown",
   "metadata": {},
   "source": [
    "\n",
    "This can be demonstrated by repeatedly forming Monte Carlo estimates, and displaying the estimates as a histogram to observe their distribution.  Also, the true density can be found exactly, because we can find $\\sigma_{f}^{2}$ analytically."
   ]
  },
  {
   "cell_type": "markdown",
   "metadata": {},
   "source": [
    "$$\\mathbb{E} \\{ f(X) \\} = 1 - e^{-1}$$\n",
    "$$\\sigma_{f}^{2} = \\int \\left( f(x) - \\mathbb{E} \\{ f(X) \\} \\right)^2 dx\n",
    "= -\\frac{1}{2} + \\frac{2}{e} - \\frac{3}{2e^2} \\approx 0.03276$$\n",
    "$$\\frac{1}{N} \\sum_{i=1}^{N} f(X^{i}) \\sim \\mathcal{N} \\left( 0.6321, \n",
    "\\frac{0.03276}{N} \\right) $$"
   ]
  },
  {
   "cell_type": "code",
   "execution_count": 116,
   "metadata": {},
   "outputs": [],
   "source": [
    "def MCE(N):  return sum( f(px(size=N)) ) / N       # Returns the Monte Carlo Estimate using N samples"
   ]
  },
  {
   "cell_type": "code",
   "execution_count": 117,
   "metadata": {},
   "outputs": [
    {
     "data": {
      "image/png": "[encoded data removed]",
      "text/plain": [
       "<Figure size 432x288 with 1 Axes>"
      ]
     },
     "metadata": {
      "needs_background": "light"
     },
     "output_type": "display_data"
    }
   ],
   "source": [
    "from scipy.stats import norm\n",
    "\n",
    "n = 1000    # This is the number of MC estimates to run to get reasonable approx to the ditribution\n",
    "estimates = [ MCE(N) for _ in range(n)]\n",
    "\n",
    "# Plot histogram of the Monte Carlo estimates that have been taken\n",
    "plt.hist(estimates,bins=20,density=True,label=\"Histogram of samples\")\n",
    "\n",
    "# Compare this to the true density found analytically\n",
    "x = np.linspace(0.55,0.75,1000)\n",
    "sigma_f2 = (-1/2) + (2*np.exp(-1)) + (-1*(3/2)*np.exp(-2))\n",
    "\n",
    "# Here, loc is the mean and scale is the standard deviation of the Gaussian density\n",
    "plt.plot(x,norm.pdf(x,loc=A,scale=np.sqrt(sigma_f2/N)),label=\"True density\")\n",
    "\n",
    "## Plotting\n",
    "plt.legend()\n",
    "plt.title(\"Monte Carlo estimate distritbution\")\n",
    "plt.xlabel(r\"$A^*$\",fontsize=14)\n",
    "plt.show()"
   ]
  },
  {
   "cell_type": "markdown",
   "metadata": {},
   "source": [
    "The repeated sampling shows the Monte Carlo estimate following the distribution devirived analytically from the Central Limit Theorem, practically validating this approach."
   ]
  },
  {
   "cell_type": "code",
   "execution_count": 118,
   "metadata": {},
   "outputs": [
    {
     "data": {
      "image/png": "[encoded data removed]",
      "text/plain": [
       "<Figure size 432x288 with 3 Axes>"
      ]
     },
     "metadata": {
      "needs_background": "light"
     },
     "output_type": "display_data"
    }
   ],
   "source": [
    "Ns = [10,50,100]\n",
    "Es = []\n",
    "\n",
    "# Generate estimates for varying N\n",
    "for N in Ns:\n",
    "    # Form many Monte Carlo Estimates, each using N samples\n",
    "    Es.append( [ MCE(N) for _ in range(n)] )\n",
    "\n",
    "##Plotting\n",
    "fig, axs = plt.subplots(3,1,sharex=True)\n",
    "x = np.linspace(0.4,0.8,1000)\n",
    "    \n",
    "for i , N in enumerate(Ns):\n",
    "    axs[i].hist(Es[i],bins=20,density=True,label=\"Histogram of samples\")\n",
    "    axs[i].plot(x,norm.pdf(x,loc=A,scale=np.sqrt(sigma_f2/N)),label=\"True density\")\n",
    "    axs[i].set_ylabel(r\"$N =$ {}\".format(N),)\n",
    "plt.xlabel(r\"$A^*$\",fontsize=14)\n",
    "plt.show()"
   ]
  },
  {
   "cell_type": "markdown",
   "metadata": {},
   "source": [
    "The variance of the Gaussian distribution is decaying at a rate of $\\frac{\\sigma_f}{\\sqrt{N}}$."
   ]
  },
  {
   "cell_type": "code",
   "execution_count": 119,
   "metadata": {},
   "outputs": [],
   "source": [
    "Vs = [ np.var(e) for e in Es]    # Calculating the variances for the estimates for varying N"
   ]
  },
  {
   "cell_type": "code",
   "execution_count": 135,
   "metadata": {},
   "outputs": [
    {
     "data": {
      "image/png": "[encoded data removed]",
      "text/plain": [
       "<Figure size 432x288 with 1 Axes>"
      ]
     },
     "metadata": {
      "needs_background": "light"
     },
     "output_type": "display_data"
    }
   ],
   "source": [
    "# Plot the true variance for the MC estimates with the empirical variances from our sampling\n",
    "x = np.linspace(5,100,1000)\n",
    "g = lambda N: sigma_f2/N   # True variance for N samples\n",
    "\n",
    "## Plotting\n",
    "plt.plot(x,g(x),label=\"True Variance\")\n",
    "plt.scatter(Ns,Vs,label=\"Empirical Variance\")\n",
    "plt.show()"
   ]
  },
  {
   "cell_type": "code",
   "execution_count": 123,
   "metadata": {},
   "outputs": [],
   "source": []
  },
  {
   "cell_type": "code",
   "execution_count": 126,
   "metadata": {},
   "outputs": [
    {
     "data": {
      "text/plain": [
       "6"
      ]
     },
     "execution_count": 126,
     "metadata": {},
     "output_type": "execute_result"
    }
   ],
   "source": []
  },
  {
   "cell_type": "code",
   "execution_count": null,
   "metadata": {},
   "outputs": [],
   "source": []
  }
 ],
 "metadata": {
  "kernelspec": {
   "display_name": "Python 3",
   "language": "python",
   "name": "python3"
  },
  "language_info": {
   "codemirror_mode": {
    "name": "ipython",
    "version": 3
   },
   "file_extension": ".py",
   "mimetype": "text/x-python",
   "name": "python",
   "nbconvert_exporter": "python",
   "pygments_lexer": "ipython3",
   "version": "3.7.6"
  }
 },
 "nbformat": 4,
 "nbformat_minor": 4
}
