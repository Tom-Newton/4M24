{
 "cells": [
  {
   "cell_type": "code",
   "execution_count": 1,
   "metadata": {},
   "outputs": [],
   "source": [
    "import numpy as np\n",
    "import matplotlib.pyplot as plt\n",
    "from scipy.stats import uniform, norm, multivariate_normal\n",
    "import scipy.integrate as integrate"
   ]
  },
  {
   "cell_type": "markdown",
   "metadata": {},
   "source": [
    "<h1 align=\"center\"><b><u>Lecture 11 - MCMC in Infinite Dimensional Space</u></b></h1>\n",
    "\n",
    "<h2>Comparing Standard Gaussian Random Walk method to pCN method</h2>"
   ]
  },
  {
   "cell_type": "markdown",
   "metadata": {},
   "source": [
    "Methods for performing MCMC on function spaces are explored in this notebook.  The example adapted from a part III essay linked on Moodle.  The example estimates a probability density based on samples that can be drawn from it, by using MCMC to sample from the Fourier series coefficients of the density function. \n",
    "\n",
    "Let the density to be estimated be:\n",
    "\n",
    "$$\n",
    "p(x) \\propto \\mathcal{N}(-3,1)\\mathbb{1}_{[-10,10]} + \\mathcal{N}(3,1)\\mathbb{1}_{[-10,10]}\n",
    "$$\n",
    "\n",
    "it is assmued we have not access to the form of the density but can draw samples from it.  The Fourier series over this interval can be written as:\n",
    "\n",
    "$$\n",
    "f(x) = \\frac{a_0}{2} + \\sum_{n=1}^{\\infty} a_n \\cos \\left( \\frac{2 \\pi n (x-10)}{20} \\right) + b_n \\sin \\left( \\frac{2 \\pi n (x-10)}{20} \\right)\n",
    "$$\n",
    "\n",
    "Truncating this infinite series after $N$ terms leads to an approximation to the function, which is improved with increasing $N$.  This will allow us to see how the different MCMC methods compare with increased \"mesh refinement\"/dimension of the problem, i.e. increasing $N$.\n",
    "\n",
    "To begin the MCMC sampling, a centered Gaussian process prior $\\mu_0$ is defined on the function space - $\\mathcal{N}(0,C)$, with covariance operator $C$.  To understand how this translates to a prior over the Fourier coefficients, the Karhunen-Loève expansion is employed - it details how a random process can be decomposed into orthonormal eigenfunctions.  These eignenfunctions are described uniquely by the covariance function, and can be thought of as similar to the Fourier basis functions.  The covariance matrix for the coefficients is given by:\n",
    "\n",
    "$$\n",
    "C_{ij} = \n",
    "\\begin{cases}\n",
    "\\frac{1}{i+1} \\text{ if } i=j\\\\\n",
    "0 \\text{ otherwise}\n",
    "\\end{cases}\n",
    "$$"
   ]
  },
  {
   "cell_type": "code",
   "execution_count": 31,
   "metadata": {},
   "outputs": [],
   "source": [
    "# True density\n",
    "def f_true(x):\n",
    "    return np.exp(-(1/2)*pow(x-3,2)) + np.exp(-(1/2)*pow(x+3,2))"
   ]
  },
  {
   "cell_type": "code",
   "execution_count": 32,
   "metadata": {},
   "outputs": [
    {
     "data": {
      "image/png": "[encoded data removed]",
      "text/plain": [
       "<Figure size 432x288 with 1 Axes>"
      ]
     },
     "metadata": {
      "needs_background": "light"
     },
     "output_type": "display_data"
    }
   ],
   "source": [
    "## Plotting\n",
    "xs = np.linspace(-10,10,100)\n",
    "plt.plot(xs,f_true(xs)/integrate.quad(lambda x: f_true(x), -10, 10)[0])\n",
    "plt.title(\"True density\")\n",
    "plt.show()"
   ]
  },
  {
   "cell_type": "code",
   "execution_count": 33,
   "metadata": {},
   "outputs": [],
   "source": [
    "def draw_sample(dim_y):\n",
    "    sample = []\n",
    "    \n",
    "    while len(sample)<dim_y:\n",
    "        p = uniform.rvs()\n",
    "        \n",
    "        # Sample from both Gaussians with equal prob\n",
    "        if p>0.5:\n",
    "            new = norm.rvs(loc=3,scale=1)\n",
    "        else:\n",
    "            new = norm.rvs(loc=-3,scale=1)\n",
    "        # Only include sample if in [-10,10]\n",
    "        if new>-10 and new<10:\n",
    "            sample.append(new)\n",
    "    \n",
    "    return sample"
   ]
  },
  {
   "cell_type": "markdown",
   "metadata": {},
   "source": [
    "The function $u$ maps the Fourier coefficients $xi$ and the input $x$ to a value.  $u(x)$ is the logarithm of the estimated density $f$, which is what is being approximated here."
   ]
  },
  {
   "cell_type": "code",
   "execution_count": 3,
   "metadata": {},
   "outputs": [],
   "source": [
    "def u(x,xi):\n",
    "    out = 0\n",
    "    for i, c in enumerate(xi):\n",
    "        # Shifted fourier series to span [-10,10]\n",
    "        if i%2==0:\n",
    "            out += c*np.cos(2*np.pi*(i/2)*(x-10)/(10*2))\n",
    "        else:\n",
    "            out += c*np.sin(2*np.pi*(i+1/2)*(x-10)/(10*2))\n",
    "    return out"
   ]
  },
  {
   "cell_type": "code",
   "execution_count": 4,
   "metadata": {},
   "outputs": [],
   "source": [
    "# Density approximation\n",
    "def f(x,xi):\n",
    "    f = u(x,xi)\n",
    "    return np.exp(f)"
   ]
  },
  {
   "cell_type": "markdown",
   "metadata": {},
   "source": [
    "The infinite dimensional MCMC algorithm given in the lecture notes descibes the standard acceptance probability as:\n",
    "\n",
    "$$\n",
    "\\alpha(u,v) = \\min(1, I(u) - I(v))\n",
    "$$\n",
    "\n",
    "with \n",
    "\n",
    "$$\n",
    "I(u) = \\Phi(u) + \\frac{1}{2}|C^{-\\frac{1}{2}}u|^2\n",
    "$$\n",
    "\n",
    "\n",
    "\n",
    "Below is the function $\\Phi$, which from the lecture slides is realted to the likelihood of $u$.\n",
    "$$\n",
    "\\frac{d\\mu}{d\\mu_0}(u) \\propto L(u) = \\exp(-\\Phi(u))\n",
    "$$\n",
    "\n",
    "The approximate density formed by the exponential of the truncated Fourier series given by $xi$ must be integrated to find the normalising constant so that the likelihood can be evaluated."
   ]
  },
  {
   "cell_type": "code",
   "execution_count": 6,
   "metadata": {},
   "outputs": [],
   "source": [
    "def Phi(xi,y):\n",
    "    dim_y = len(y)\n",
    "    phi_u = 0\n",
    "    \n",
    "    # Find normalising const given xi\n",
    "    Z = integrate.quad(lambda x: f(x,xi), -10, 10)[0]\n",
    "    \n",
    "    for yj in y:\n",
    "        phi_u += np.log( np.exp(u(yj, xi))/Z )\n",
    "        \n",
    "    return -phi_u"
   ]
  },
  {
   "cell_type": "code",
   "execution_count": 7,
   "metadata": {},
   "outputs": [],
   "source": [
    "def I(xi,y):\n",
    "    # Computing 1/2|C^1/2 u|^2 + Phi(u)\n",
    "    return (1/2)*sum([(i+1)*pow(x,2) for i,x in enumerate(xi)]) + Phi(xi,y)"
   ]
  },
  {
   "cell_type": "markdown",
   "metadata": {},
   "source": [
    "The two methods for performing MCMC in the function space considered here are the Standard (Gaussian) Random Walk (SRW), and the preconditioned Crank-Nicolson (pCN) method.  The forms of the acceptance probability are seen in the lecture notes, and are given below.\n",
    "\n",
    "SRW\n",
    "$$\n",
    "\\alpha(u,v) = \\min(1, I(u) - I(v))\n",
    "$$\n",
    "\n",
    "pCN\n",
    "$$\n",
    "\\alpha(u,v) = \\min(1, \\Phi(u) - \\Phi(v))\n",
    "$$\n",
    "\n",
    "with corresponding proposals:\n",
    "\n",
    "SRW\n",
    "$$\n",
    "v^{(k)} =  u^{(k)} + \\beta \\eta^{(k)}, \\eta^{(k)} \\sim \\mathcal{N}(0,C)\n",
    "$$\n",
    "\n",
    "pCN\n",
    "$$\n",
    "v^{(k)} =  u^{(k)}\\sqrt{1-\\beta^2}  + \\beta \\eta^{(k)}, \\eta^{(k)} \\sim \\mathcal{N}(0,C)\n",
    "$$"
   ]
  },
  {
   "cell_type": "code",
   "execution_count": 8,
   "metadata": {},
   "outputs": [],
   "source": [
    "def acceptance_SRW(xi_u, xi_v, y):\n",
    "    return min(1, np.exp( I(xi_u, y) - I(xi_v, y) ) )"
   ]
  },
  {
   "cell_type": "code",
   "execution_count": 9,
   "metadata": {},
   "outputs": [],
   "source": [
    "def acceptance_pCN(xi_u, xi_v, y):\n",
    "    return min(1, np.exp( Phi(xi_u, y) - Phi(xi_v, y) ) )"
   ]
  },
  {
   "cell_type": "markdown",
   "metadata": {},
   "source": [
    "The MCMC method is then defined as a function below."
   ]
  },
  {
   "cell_type": "code",
   "execution_count": 10,
   "metadata": {},
   "outputs": [],
   "source": [
    "def mcmc(xi, y, C, N, beta, method=\"pCN\"):\n",
    "    \n",
    "    samples = []\n",
    "    acc = 0\n",
    "    \n",
    "    xi_prev = xi\n",
    "    \n",
    "    for _ in range(N):\n",
    "        # Propose new sample based on selected method\n",
    "        if method==\"pCN\":\n",
    "            xi_new = np.sqrt(1-pow(beta,2))*xi_prev + beta*multivariate_normal.rvs(np.zeros(len(xi)), C)\n",
    "            a = acceptance_pCN(xi_prev, xi_new, y)\n",
    "        if method==\"SRW\":\n",
    "            xi_new = xi_prev + beta*multivariate_normal.rvs(np.zeros(len(xi)), C)\n",
    "            a = acceptance_SRW(xi_prev, xi_new, y)\n",
    "            \n",
    "        u = uniform.rvs()\n",
    "        if u<a:\n",
    "            # Accept sample\n",
    "            samples.append(xi_new)\n",
    "            xi_prev = xi_new\n",
    "            acc += 1\n",
    "        else:\n",
    "            samples.append(xi_prev)\n",
    "            \n",
    "    return samples, acc/N"
   ]
  },
  {
   "cell_type": "code",
   "execution_count": 11,
   "metadata": {},
   "outputs": [],
   "source": [
    "N = 200\n",
    "dim_u = 30\n",
    "dim_y = 100\n",
    "\n",
    "# Initial guess\n",
    "xi = np.zeros(dim_u)\n",
    "xi[0] = 1\n",
    "\n",
    "# Generate covariance matrix for xi\n",
    "C = np.diag( [1/(i+1) for i in range(dim_u)] )\n",
    "\n",
    "# Generate sample\n",
    "y = draw_sample(dim_y)"
   ]
  },
  {
   "cell_type": "markdown",
   "metadata": {},
   "source": [
    "The samples are drawn from the true density, which are plotted as a histogram below."
   ]
  },
  {
   "cell_type": "code",
   "execution_count": 12,
   "metadata": {},
   "outputs": [
    {
     "data": {
      "image/png": "[encoded data removed]",
      "text/plain": [
       "<Figure size 432x288 with 1 Axes>"
      ]
     },
     "metadata": {
      "needs_background": "light"
     },
     "output_type": "display_data"
    }
   ],
   "source": [
    "## Plotting\n",
    "plt.hist(y,bins=30,density=\"probability\")\n",
    "plt.plot(xs,f_true(xs)/integrate.quad(lambda x: f_true(x), -10, 10)[0])\n",
    "plt.show()"
   ]
  },
  {
   "cell_type": "code",
   "execution_count": 13,
   "metadata": {},
   "outputs": [],
   "source": [
    "samples, acc_rate = mcmc(xi, y, C, N, 0.2, method='pCN')"
   ]
  },
  {
   "cell_type": "code",
   "execution_count": 14,
   "metadata": {},
   "outputs": [],
   "source": [
    "# Average the samples with a burn in of N/2\n",
    "samples_avg = sum(samples[int(N/2):])/(N/2)"
   ]
  },
  {
   "cell_type": "code",
   "execution_count": 15,
   "metadata": {},
   "outputs": [
    {
     "data": {
      "image/png": "[encoded data removed]",
      "text/plain": [
       "<Figure size 432x288 with 1 Axes>"
      ]
     },
     "metadata": {
      "needs_background": "light"
     },
     "output_type": "display_data"
    }
   ],
   "source": [
    "plt.plot(xs,f(xs,samples_avg)/integrate.quad(lambda x: f(x,samples_avg), -10, 10)[0], color='r', label='Density estimate')\n",
    "plt.plot(xs,f_true(xs)/integrate.quad(lambda x: f_true(x), -10, 10)[0], color='b', label='True density')\n",
    "plt.legend()\n",
    "plt.show()"
   ]
  },
  {
   "cell_type": "code",
   "execution_count": 16,
   "metadata": {},
   "outputs": [
    {
     "data": {
      "text/plain": [
       "0.415"
      ]
     },
     "execution_count": 16,
     "metadata": {},
     "output_type": "execute_result"
    }
   ],
   "source": [
    "acc_rate"
   ]
  },
  {
   "cell_type": "markdown",
   "metadata": {},
   "source": [
    "The denisty esitmate can be seen to be close to the true density - adjust the burn-in and the dimension of $xi$ (where the series is truncated) to see how it affect the resulting estimate."
   ]
  },
  {
   "cell_type": "markdown",
   "metadata": {},
   "source": [
    "<h2>Robustness of pCN to \"Mesh Refinement\"</h2>"
   ]
  },
  {
   "cell_type": "markdown",
   "metadata": {},
   "source": [
    "This code can take a long time to run to produce the required plots, since many samples must be taken, at many different values of $\\beta$ to get a clear picture.  The image used here has been produced previously, and the code added below for reference.\n",
    "\n",
    "As discussed in the lecture slides, the acceptance probability does not degenerate with dimension when using the pCN method, but it clearly degenerating when using the standard random walk."
   ]
  },
  {
   "cell_type": "markdown",
   "metadata": {},
   "source": [
    "<img src=\"srw_pcn.png\">"
   ]
  },
  {
   "cell_type": "code",
   "execution_count": 37,
   "metadata": {},
   "outputs": [],
   "source": [
    "N = 200\n",
    "# Range of betas to test\n",
    "bs = np.logspace(-3,0,5)\n",
    "# Increasing dimension to compare pCN and SRW\n",
    "dims = [10,40,160]"
   ]
  },
  {
   "cell_type": "code",
   "execution_count": 38,
   "metadata": {},
   "outputs": [],
   "source": [
    "def eval_acc(mcmc_method=\"pCN\"):\n",
    "    results = []\n",
    "    for dim_u in dims:\n",
    "        accs = []\n",
    "        for beta in bs:\n",
    "            # Initial guess\n",
    "            xi = np.zeros(dim_u)\n",
    "            xi[0] = 1\n",
    "\n",
    "            # Generate covariance matrix for xi\n",
    "            C = np.diag( [1/(i+1) for i in range(dim_u)] )\n",
    "\n",
    "            # Generate sample\n",
    "            y = draw_sample(dim_y)\n",
    "\n",
    "            samples, acc_rate = mcmc(xi, y, C, N, 0.2, method=mcmc_method)\n",
    "            \n",
    "        results.append( (dim_u, accs) )\n",
    "        \n",
    "    return results"
   ]
  },
  {
   "cell_type": "code",
   "execution_count": 39,
   "metadata": {
    "scrolled": true
   },
   "outputs": [],
   "source": [
    "#results_pCN = eval_acc(mcmc_method=\"pCN\")\n",
    "#results_SRW = eval_acc(mcmc_method=\"SRW\")"
   ]
  },
  {
   "cell_type": "code",
   "execution_count": 40,
   "metadata": {},
   "outputs": [],
   "source": [
    "#fig, (ax1, ax2) = plt.subplots(1,2,figsize=(10,5))\n",
    "#for result in results_SRW\n",
    "#    ax1.plot(bs,result[1],label=r\"$d_u = $ {}\".format(result[0]))\n",
    "#for result in results_pCN\n",
    "#    ax2.plot(bs,result[1],label=r\"$d_u = $ {}\".format(result[0]))\n",
    "#ax1.set_xscale('log')\n",
    "#ax2.set_xscale('log')\n",
    "#ax1.legend()\n",
    "#ax2.legend()\n",
    "#plt.show()"
   ]
  }
 ],
 "metadata": {
  "kernelspec": {
   "display_name": "Python 3",
   "language": "python",
   "name": "python3"
  },
  "language_info": {
   "codemirror_mode": {
    "name": "ipython",
    "version": 3
   },
   "file_extension": ".py",
   "mimetype": "text/x-python",
   "name": "python",
   "nbconvert_exporter": "python",
   "pygments_lexer": "ipython3",
   "version": "3.7.6"
  }
 },
 "nbformat": 4,
 "nbformat_minor": 4
}
