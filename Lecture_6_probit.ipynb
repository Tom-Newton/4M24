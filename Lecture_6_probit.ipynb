{
 "cells": [
  {
   "cell_type": "code",
   "execution_count": 1,
   "metadata": {},
   "outputs": [],
   "source": [
    "import numpy as np\n",
    "import matplotlib.pyplot as plt\n",
    "from scipy.stats import norm, uniform, multivariate_normal"
   ]
  },
  {
   "cell_type": "markdown",
   "metadata": {},
   "source": [
    "<h1 align=\"center\"><b><u>Lecture 6 - Markov Chain Monte Carlo (MCMC)</u></b></h1>\n",
    "\n",
    "<h2>Probit Regression using a Gibbs Sampler</h2>"
   ]
  },
  {
   "cell_type": "markdown",
   "metadata": {},
   "source": [
    "Lecture 6 gives the derivation of the Gibbs sampler that can be used to perform Probit regession.  This notebook looks as the comparison of this method, to a more traditional Maximum likelihood approach. \n",
    "\n",
    "A linearly separable dataset is generated simply with classes $t=0$ and $t=1$.  This is shown below.  The dataset consists of 2D vectors $\\mathbf{x}^{(i)} = \\begin{bmatrix}x_1^{(i)}\\\\x_2^{(i)}\\end{bmatrix}$ and corresponding class label $t^{(i)}$."
   ]
  },
  {
   "cell_type": "code",
   "execution_count": 2,
   "metadata": {},
   "outputs": [],
   "source": [
    "# Rough number of datapoints to generate for each class\n",
    "n = 50\n",
    "\n",
    "# Uniform quadrant dataset - linearly seperable\n",
    "X0 = np.array([(np.random.rand(),np.random.rand()) for _ in range(n)])\n",
    "X1 = np.array([(1+np.random.rand(),1+np.random.rand()) for _ in range(n)])\n",
    "t0 = np.zeros(len(X0))\n",
    "t1 = np.ones(len(X1))"
   ]
  },
  {
   "cell_type": "code",
   "execution_count": 3,
   "metadata": {},
   "outputs": [
    {
     "data": {
      "image/png": "[encoded data removed]",
      "text/plain": [
       "<Figure size 432x288 with 1 Axes>"
      ]
     },
     "metadata": {
      "needs_background": "light"
     },
     "output_type": "display_data"
    }
   ],
   "source": [
    "## Plotting\n",
    "plt.scatter(X0[:,0], X0[:,1], color='b', label=r\"$t=0$\")\n",
    "plt.scatter(X1[:,0], X1[:,1], color='r', label=r\"$t=1$\")\n",
    "plt.legend()\n",
    "plt.xlim(0,2)\n",
    "plt.ylim(0,2)\n",
    "plt.xlabel(r\"$x_1$\",fontsize=16)\n",
    "plt.ylabel(r\"$x_2$\",fontsize=16)\n",
    "plt.show()"
   ]
  },
  {
   "cell_type": "markdown",
   "metadata": {},
   "source": [
    "The aim of the Probit regression, is to be able to assign a class probability to a new incoming datapoint $(\\mathbf{x}^*, t^*)$ i.e. we want $p(t^* = 1 | \\mathbf{x}^*, \\mathbf{X}, \\mathbf{t})$."
   ]
  },
  {
   "cell_type": "markdown",
   "metadata": {},
   "source": [
    "<h2>Probit Regression using Maximum Likelihood Estimation</h2>"
   ]
  },
  {
   "cell_type": "markdown",
   "metadata": {},
   "source": [
    "The maximum likelihood approach is the most commonly used in this scenario.  From here on, $\\mathbf{x}$ refers to an extended vector $\\mathbf{x} = \\begin{bmatrix}1\\\\x_1\\\\x_2\\end{bmatrix}$ and $\\boldsymbol{\\beta} = \\begin{bmatrix}\\beta_0\\\\ \\beta_1\\\\ \\beta_2\\end{bmatrix}$.\n"
   ]
  },
  {
   "cell_type": "code",
   "execution_count": 4,
   "metadata": {},
   "outputs": [],
   "source": [
    "# Extend the input vectors\n",
    "X0_tilde = np.c_[np.ones(len(X0)),X0]\n",
    "X1_tilde = np.c_[np.ones(len(X1)),X1]"
   ]
  },
  {
   "cell_type": "markdown",
   "metadata": {},
   "source": [
    "The model says:\n",
    "\n",
    "$$\n",
    "p(t=1| \\mathbf{x}, \\boldsymbol{\\beta}) = \\Phi(\\boldsymbol{\\beta}^T \\mathbf{x})\n",
    "$$\n",
    "hence,\n",
    "$$\n",
    "p(t=0| \\mathbf{x}, \\boldsymbol{\\beta}) = 1 - \\Phi(\\boldsymbol{\\beta}^T \\mathbf{x})\n",
    "$$\n",
    "\n",
    "This gives the log-likelihood:\n",
    "\n",
    "$$\n",
    "L(\\boldsymbol{\\beta}, \\mathbf{X}, \\mathbf{t}) = \\sum_{i=1}^{n} \\left[ t_i \\log\\Phi(\\boldsymbol{\\beta}^T \\mathbf{x})  + \n",
    "(1-t_i)\\log\\left( 1 - \\Phi(\\boldsymbol{\\beta}^T \\mathbf{x}) \\right) \\right]\n",
    "$$\n",
    "\n",
    "Finding the gradient of this log-likelihood requires the relationship $\\frac{\\partial\\Phi(x)}{\\partial x} = \\phi(x)$, where $\\Phi$ and $\\phi$ are the Gaussian cdf and pdf respectively - derive the rest yourself. Giving the gradient:\n",
    "\n",
    "$$\n",
    "\\frac{\\partial L}{\\partial \\boldsymbol{\\beta}} = \\sum_{i=1}^{n} \n",
    "\\left[ \n",
    "\\frac{t_i - \\Phi(\\boldsymbol{\\beta}^T \\mathbf{x}^{(i)})}{\\Phi(\\boldsymbol{\\beta}^T \\mathbf{x}^{(i)}) (1-\\Phi(\\boldsymbol{\\beta}^T \\mathbf{x}^{(i)}))}\n",
    "\\right]\\phi(\\boldsymbol{\\beta}^T \\mathbf{x}^{(i)})\\mathbf{x}^{(i)}\n",
    "$$\n",
    "\n"
   ]
  },
  {
   "cell_type": "code",
   "execution_count": 5,
   "metadata": {},
   "outputs": [],
   "source": [
    "def grad(beta,X0,X1):\n",
    "    # Find the gradient of the log-likelihood for the dataset given beta\n",
    "    \n",
    "    # Evaluate the gradient, given the value of t\n",
    "    def grad_t(t,X):\n",
    "        bx = np.dot(X,beta)\n",
    "        Phi = norm.cdf(bx)\n",
    "        phi = norm.pdf(bx)\n",
    "        f = [ ( (t-Phi[i]) / ( Phi[i] * (1 - Phi[i]) )) * phi[i] for i in range(len(bx))]\n",
    "        g = [x*f[i] for i, x in enumerate(X)]\n",
    "        return sum(g)\n",
    "    \n",
    "    dL = 0\n",
    "    dL += grad_t(0,X0)\n",
    "    dL += grad_t(1,X1)\n",
    "\n",
    "    return dL"
   ]
  },
  {
   "cell_type": "markdown",
   "metadata": {},
   "source": [
    "The gradient ascent algorithm is implemented to iteratively update the weights based on the current gradient, to find the maximum of the log-likelihood. Here, $\\mu$ is the learning rate and is adjusted manually for convergence to the maximum.\n",
    "\n",
    "$$\n",
    "\\boldsymbol{\\beta}^{(k+1)} = \\boldsymbol{\\beta}^{(k)} + \\mu \\frac{\\partial L(\\boldsymbol{\\beta}^{(k)})}{\\partial \\boldsymbol{\\beta}}\n",
    "$$\n"
   ]
  },
  {
   "cell_type": "code",
   "execution_count": 6,
   "metadata": {},
   "outputs": [],
   "source": [
    "def ascent(initial, steps, nu, X0, X1):\n",
    "    # Performs gradient ascent algorithm\n",
    "    beta = initial\n",
    "    \n",
    "    for _ in range(steps):\n",
    "        # Get the gradient at beta\n",
    "        g = grad(beta,X0,X1)\n",
    "        \n",
    "        # Gradient update step\n",
    "        beta += nu * g\n",
    "\n",
    "    return beta"
   ]
  },
  {
   "cell_type": "code",
   "execution_count": 7,
   "metadata": {},
   "outputs": [],
   "source": [
    "initial = [1,1,1]\n",
    "steps = 1000\n",
    "learn_rate = 0.001\n",
    "\n",
    "# Perform gradient ascent to find ML estimate beta\n",
    "beta = ascent(initial, steps, learn_rate, X0_tilde, X1_tilde)"
   ]
  },
  {
   "cell_type": "markdown",
   "metadata": {},
   "source": [
    "Now the we have a ML estimate, predictions about new inputs can be made.  Since this is a point estimate, we can say the predictive distribution is just:\n",
    "\n",
    "$$\n",
    "p(t^*=1 | \\mathbf{x}^*, \\boldsymbol{\\beta}=\\boldsymbol{\\beta}_{\\text{ML}}, \\mathbf{X}, \\mathbf{t}) = \\Phi(\\boldsymbol{\\beta}_{\\text{ML}}^T \\mathbf{x}^*)\n",
    "$$"
   ]
  },
  {
   "cell_type": "code",
   "execution_count": 8,
   "metadata": {},
   "outputs": [],
   "source": [
    "def predict(beta,x):\n",
    "    # Predicts target t, based on input x\n",
    "    x = np.array([1,x[0],x[1]])\n",
    "    return norm.cdf(np.dot(beta,x))"
   ]
  },
  {
   "cell_type": "markdown",
   "metadata": {},
   "source": [
    "The decision boundary is the point at which the probability for either class is the same, i.e. $\\boldsymbol{\\beta}^T \\mathbf{x} = 0$, meaning the decision boundary is orthogonal to $\\boldsymbol{\\beta}$.  This is shown in the plot below."
   ]
  },
  {
   "cell_type": "code",
   "execution_count": 9,
   "metadata": {},
   "outputs": [
    {
     "data": {
      "image/png": "[encoded data removed]",
      "text/plain": [
       "<Figure size 864x360 with 2 Axes>"
      ]
     },
     "metadata": {
      "needs_background": "light"
     },
     "output_type": "display_data"
    }
   ],
   "source": [
    "## Plotting\n",
    "fig, (ax1, ax2) = plt.subplots(1,2,figsize=(12,5))\n",
    "ax1.scatter(X0[:,0], X0[:,1], color='b', label=r\"$t=0$\", zorder=10)\n",
    "ax1.scatter(X1[:,0], X1[:,1], color='r', label=r\"$t=1$\", zorder=10)\n",
    "ax1.plot([0,-beta[0]/beta[1]], [-beta[0]/beta[2]  ,0], color='k', label='Decision Boundary')\n",
    "# plt.contourf(x,y,Z,zorder=1)\n",
    "ax1.set_xlim(0,2)\n",
    "ax1.set_ylim(0,2)\n",
    "ax1.set_xlabel(r\"$x_1$\",fontsize=16)\n",
    "ax1.set_ylabel(r\"$x_2$\",fontsize=16)\n",
    "ax1.legend()\n",
    "ax1.set_title(\"Decision boundary\")\n",
    "\n",
    "N = 20\n",
    "x, y = np.mgrid[-0.1:2.1:2.2/N, -0.1:2.1:2.2/N]\n",
    "pos = np.dstack((x, y))\n",
    "\n",
    "Z = np.zeros((N,N))\n",
    "for i in range(N):\n",
    "    for j in range(N):\n",
    "        Z[i,j] = predict(beta, np.array( (x[i,j], y[i,j]) ) )\n",
    "\n",
    "ax2.scatter(X0[:,0], X0[:,1], color='b', label=r\"$t=0$\", zorder=10)\n",
    "ax2.scatter(X1[:,0], X1[:,1], color='r', label=r\"$t=1$\", zorder=10)     \n",
    "ax2.contourf(x,y,Z,zorder=1)\n",
    "ax2.set_xlim(0,2)\n",
    "ax2.set_ylim(0,2)\n",
    "ax2.set_xlabel(r\"$x_1$\",fontsize=16)\n",
    "ax2.set_ylabel(r\"$x_2$\",fontsize=16)\n",
    "ax2.legend()\n",
    "ax2.set_title(\"Contour plot\")\n",
    "\n",
    "plt.show()"
   ]
  },
  {
   "cell_type": "markdown",
   "metadata": {},
   "source": [
    "This has formed a reasonable decision boundary, which separates the two classes.  However, this is only a point estimate for $\\boldsymbol{\\beta}$ - the Gibbs sampler looks at estimating its distribution - we will see how that affects the classification later."
   ]
  },
  {
   "cell_type": "markdown",
   "metadata": {},
   "source": [
    "<h2>Probit Regression using Gibbs Sampling</h2>"
   ]
  },
  {
   "cell_type": "markdown",
   "metadata": {},
   "source": [
    "As seen in the lecture slides, after the data augmentation, the full joint distribution can be split into conditionals, which are samples separately just like basic Gibbs sampler.\n",
    "\n",
    "$$\n",
    "\\boldsymbol{\\beta} | \\mathbf{X}, \\mathbf{t}, \\mathbf{y} \\sim \\mathcal{N} (\\boldsymbol{\\beta}; (\\mathbf{X}^T\\mathbf{X})^{-1}\\mathbf{X}^T \\mathbf{y}, (\\mathbf{X}^T\\mathbf{X})^{-1} )\n",
    "$$\n",
    "\n",
    "$$\n",
    "y_i | \\boldsymbol{\\beta}, \\mathbf{X}, \\mathbf{t}  \\sim \\textit{TN}_{(0,\\infty)} (\\boldsymbol{\\beta}^T \\mathbf{x}^{(i)}, 1)\n",
    ": t_i = 1\n",
    "$$\n",
    "\n",
    "$$\n",
    "y_i | \\boldsymbol{\\beta}, \\mathbf{X}, \\mathbf{t}  \\sim \\textit{TN}_{(\\infty,0)} (\\boldsymbol{\\beta}^T \\mathbf{x}^{(i)}, 1)\n",
    ": t_i = 0\n",
    "$$\n"
   ]
  },
  {
   "cell_type": "code",
   "execution_count": 10,
   "metadata": {},
   "outputs": [],
   "source": [
    "def gibbs(initial, N, X, t):\n",
    "\n",
    "    samples = []\n",
    "    beta = initial\n",
    "    \n",
    "    for _ in range(N):\n",
    "    \n",
    "        # set up empty y vector to collect yi samples when looping over dataset\n",
    "        y = []\n",
    "\n",
    "        for i, x in enumerate(X):\n",
    "            # Sample from truncated Gaussian depending on t\n",
    "            if t[i] == 1:\n",
    "                # This allows for easy sampling from a truncated Gaussian\n",
    "                yi = 0\n",
    "                while yi <= 0:\n",
    "                    yi = norm.rvs(loc=np.dot(beta,x),scale=1)\n",
    "            else:\n",
    "                yi = 0\n",
    "                while yi >= 0:\n",
    "                    yi = norm.rvs(loc=np.dot(beta,x),scale=1)\n",
    "            # add sample to the y vector\n",
    "            y.append(yi)\n",
    "\n",
    "        # Calculate statistics, then sample other conditional\n",
    "        cov = np.linalg.inv( (X.T @ X) )              ################## From Mark's lecture notes\n",
    "        mean = cov @ X.T @ np.array(y)\n",
    "\n",
    "        beta = multivariate_normal.rvs(mean=mean, cov=cov)\n",
    "\n",
    "        samples.append( (beta, y) )\n",
    "\n",
    "    return samples"
   ]
  },
  {
   "cell_type": "code",
   "execution_count": 11,
   "metadata": {},
   "outputs": [],
   "source": [
    "# prepare data\n",
    "X = np.r_[X0_tilde, X1_tilde]\n",
    "t = np.r_[t0, t1]\n",
    "\n",
    "# Shuffle data - may only be necessary for matrix conditioning\n",
    "Xt = np.c_[X,t]\n",
    "np.random.shuffle(Xt)\n",
    "X = Xt[:,:3]\n",
    "t = Xt[:,-1]"
   ]
  },
  {
   "cell_type": "code",
   "execution_count": 12,
   "metadata": {},
   "outputs": [],
   "source": [
    "# Sample beta from prior\n",
    "beta = multivariate_normal.rvs(mean=[0,0,0], cov=np.eye(3))"
   ]
  },
  {
   "cell_type": "code",
   "execution_count": 13,
   "metadata": {},
   "outputs": [],
   "source": [
    "# Take n samples, returning the beta and y samples\n",
    "n = 500\n",
    "samples = gibbs(beta, n, X, t)\n",
    "\n",
    "beta_samples = np.array([sample[0] for sample in samples])\n",
    "y_samples = np.array([sample[1] for sample in samples])"
   ]
  },
  {
   "cell_type": "markdown",
   "metadata": {},
   "source": [
    "The samples of $\\boldsymbol{\\beta}$ can be viewed as a histogram, the maximum for each histgram found and compared to the estimate found by the Maximum likelihood algorithm."
   ]
  },
  {
   "cell_type": "code",
   "execution_count": 14,
   "metadata": {},
   "outputs": [
    {
     "data": {
      "image/png": "[encoded data removed]",
      "text/plain": [
       "<Figure size 1080x360 with 3 Axes>"
      ]
     },
     "metadata": {
      "needs_background": "light"
     },
     "output_type": "display_data"
    }
   ],
   "source": [
    "fig, ax = plt.subplots(1,3, figsize=(15,5))\n",
    "beta_star = np.zeros(3)\n",
    "n0, b0, patches = ax[0].hist(beta_samples[:,0], 20, density=\"probability\", histtype='stepfilled')\n",
    "n1, b1, patches = ax[1].hist(beta_samples[:,1], 20, density=\"probability\", histtype='stepfilled')\n",
    "n2, b2, patches = ax[2].hist(beta_samples[:,2], 20, density=\"probability\", histtype='stepfilled')\n",
    "beta_star[0] = b0[np.where(n0 == n0.max())]\n",
    "beta_star[1] = b1[np.where(n1 == n1.max())]\n",
    "beta_star[2] = b2[np.where(n2 == n2.max())]\n",
    "ax[0].axvline(beta_star[0],color='k')\n",
    "ax[1].axvline(beta_star[1],color='k')\n",
    "ax[2].axvline(beta_star[2],color='k')\n",
    "ax[0].set_xlabel(r\"$\\beta_0$\",fontsize=16)\n",
    "ax[1].set_xlabel(r\"$\\beta_1$\",fontsize=16)\n",
    "ax[2].set_xlabel(r\"$\\beta_2$\",fontsize=16)\n",
    "plt.show()"
   ]
  },
  {
   "cell_type": "markdown",
   "metadata": {},
   "source": [
    "The distribution of the weight parameters are neither very linear nor tight around the maximum, suggesting the point estimate may not be an accurate representation of the posterior predictive distribution.\n",
    "\n",
    "In this case, now we are looking a a $\\boldsymbol{\\beta}$ with a distribution, the prediction changes.  The parameters are maginalised out to find the prediction as shown below, with $\\mathcal{D} = \\{ \\mathbf{X}, \\mathbf{t} \\}$:\n",
    "\n",
    "$$\n",
    "p(t^* = 1| \\mathbf{x}^*, \\mathcal{D}) = \\int p(t^* = 1| \\mathbf{x}^*, \\boldsymbol{\\beta}, \\mathcal{D}) p(\\boldsymbol{\\beta}|\\mathcal{D}) d\\boldsymbol{\\beta}\n",
    "$$\n",
    "\n",
    "In this case, we have generated samples from $p(\\boldsymbol{\\beta}|\\mathcal{D})$ during the Gibbs procedure.  Looking back to the first two lectures, this integral can be approximated using Monte Carlo, when rewritten as an expectation.\n",
    "\n",
    "Since \n",
    "\n",
    "$$\n",
    "p(t^* = 1| \\mathbf{x}^*, \\boldsymbol{\\beta}, \\mathcal{D}) = \\Phi(\\boldsymbol{\\beta}^T \\mathbf{x}^*)\n",
    "$$\n",
    "\n",
    "we can write:\n",
    "\n",
    "$$\n",
    "\\int p(t^* = 1| \\mathbf{x}^*, \\boldsymbol{\\beta}, \\mathcal{D}) p(\\boldsymbol{\\beta}|\\mathcal{D}) d\\boldsymbol{\\beta} = \n",
    "\\mathbb{E}_{p(\\boldsymbol{\\beta}|\\mathcal{D})} \\{ \\Phi(\\boldsymbol{\\beta}^T \\mathbf{x}^*)  \\}\n",
    "$$\n",
    "\n",
    "and \n",
    "\n",
    "$$\n",
    "\\mathbb{E}_{p(\\boldsymbol{\\beta}|\\mathcal{D})} \\{ \\Phi(\\boldsymbol{\\beta}^{T} \\mathbf{x}^*)  \\}\n",
    "\\approx \\frac{1}{n} \\sum_{i-1}^{n} \\Phi(\\boldsymbol{\\beta}^{(i)T} \\mathbf{x}^*)\n",
    "$$\n",
    "\n",
    "This can be used to find improved predictive probabilities over the space, and is demonstrated below by evaluating the above expression on a grid over the input space to give a contour plot."
   ]
  },
  {
   "cell_type": "code",
   "execution_count": 15,
   "metadata": {},
   "outputs": [],
   "source": [
    "def predict_gibbs(beta_samples, x):\n",
    "    x = np.array([1,x[0],x[1]])\n",
    "    f = [norm.cdf(np.dot(beta,x)) for beta in beta_samples]\n",
    "    return sum(f)/len(beta_samples)"
   ]
  },
  {
   "cell_type": "code",
   "execution_count": 16,
   "metadata": {},
   "outputs": [],
   "source": [
    "N = 20\n",
    "x, y = np.mgrid[-0.1:2.1:2.2/N, -0.1:2.1:2.2/N]\n",
    "pos = np.dstack((x, y))\n",
    "\n",
    "Z = np.zeros((N,N))\n",
    "for i in range(N):\n",
    "    for j in range(N):\n",
    "        Z[i,j] = predict_gibbs(beta_samples, np.array( (x[i,j], y[i,j]) ) )"
   ]
  },
  {
   "cell_type": "code",
   "execution_count": 17,
   "metadata": {},
   "outputs": [
    {
     "data": {
      "image/png": "[encoded data removed]",
      "text/plain": [
       "<Figure size 432x432 with 1 Axes>"
      ]
     },
     "metadata": {
      "needs_background": "light"
     },
     "output_type": "display_data"
    }
   ],
   "source": [
    "fig, axs = plt.subplots(1,figsize=(6,6))\n",
    "plt.scatter(X0[:,0], X0[:,1], color='b', label=r\"$t=0$\", zorder=10)\n",
    "plt.scatter(X1[:,0], X1[:,1], color='r', label=r\"$t=1$\", zorder=10)\n",
    "plt.contourf(x,y,Z,zorder=1)\n",
    "plt.xlim(0,2)\n",
    "plt.ylim(0,2)\n",
    "plt.legend()\n",
    "plt.xlabel(r\"$x_1$\",fontsize=16)\n",
    "plt.ylabel(r\"$x_2$\",fontsize=16)\n",
    "plt.title(\"Contour plot - Gibbs\")\n",
    "plt.show()"
   ]
  },
  {
   "cell_type": "markdown",
   "metadata": {},
   "source": [
    "The above plot shows the nonlinear boundary, which is a result of the distribution over $\\boldsymbol{\\beta}$ being included.  There is a practical balance to the improvement in predicitve probability, which is the significant increase in computation time and memory required, since all the samples must be stored in order to evaluate the predictive probability.  Bayesian logistic regression, interestingly,  approximates the distribution over weights with a Gaussian, making the predictive distribution analytically tractable - some of you may have come accross this in the 3F8 FTR."
   ]
  }
 ],
 "metadata": {
  "kernelspec": {
   "display_name": "Python 3",
   "language": "python",
   "name": "python3"
  },
  "language_info": {
   "codemirror_mode": {
    "name": "ipython",
    "version": 3
   },
   "file_extension": ".py",
   "mimetype": "text/x-python",
   "name": "python",
   "nbconvert_exporter": "python",
   "pygments_lexer": "ipython3",
   "version": "3.7.1"
  }
 },
 "nbformat": 4,
 "nbformat_minor": 2
}
